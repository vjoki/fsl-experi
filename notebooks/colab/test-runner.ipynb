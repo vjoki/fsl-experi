{
  "nbformat": 4,
  "nbformat_minor": 0,
  "metadata": {
    "colab": {
      "name": "test-runner.ipynb",
      "provenance": [],
      "collapsed_sections": [],
      "toc_visible": true
    },
    "kernelspec": {
      "name": "python3",
      "display_name": "Python 3"
    },
    "accelerator": "GPU"
  },
  "cells": [
    {
      "cell_type": "markdown",
      "metadata": {
        "id": "LX7bZ8y3zgMK"
      },
      "source": [
        "# Setup"
      ]
    },
    {
      "cell_type": "code",
      "metadata": {
        "id": "TNvLfDTPzdRX"
      },
      "source": [
        "# For TPU\n",
        "#import os\n",
        "#assert os.environ['COLAB_TPU_ADDR'], 'Make sure to select TPU from Edit > Notebook settings > Hardware accelerator'\n",
        "#!pip install cloud-tpu-client==0.10 https://storage.googleapis.com/tpu-pytorch/wheels/torch_xla-1.7-cp36-cp36m-linux_x86_64.whl\n",
        "##!curl https://raw.githubusercontent.com/pytorch/xla/v1.7.0/contrib/scripts/env-setup.py -o pytorch-xla-env-setup.py\n",
        "##!python pytorch-xla-env-setup.py --version 1.7 --apt-packages libomp5 libopenblas-dev\n",
        "\n",
        "#!pip install git+https://github.com/PytorchLightning/pytorch-lightning.git@master --upgrade\n",
        "!pip install torch==1.7.1+cu101 torchvision==0.8.2+cu101 torchaudio==0.7.2 -f https://download.pytorch.org/whl/torch_stable.html\n",
        "!pip install pytorch-lightning==1.1.3 audiomentations\n",
        "!git clone https://github.com/vjoki/fsl-experi.git || ( cd fsl-experi/ ; git pull )"
      ],
      "execution_count": null,
      "outputs": []
    },
    {
      "cell_type": "markdown",
      "metadata": {
        "id": "tTVGJ-7Clggu"
      },
      "source": [
        "## Copy and extract datasets from Drive"
      ]
    },
    {
      "cell_type": "code",
      "metadata": {
        "id": "AABicCTKzrin"
      },
      "source": [
        "![ ! -d fsl-experi/data/LibriSpeech/ ] && cp ./drive/MyDrive/colab/train-clean-100.tar.gz ./drive/MyDrive/colab/test-clean.tar.gz ./drive/MyDrive/colab/dev-clean.tar.gz . \\\n",
        "  && tar zxf ./train-clean-100.tar.gz -C fsl-experi/data/ \\\n",
        "  && tar zxf ./dev-clean.tar.gz -C fsl-experi/data/ \\\n",
        "  && tar zxf ./test-clean.tar.gz -C fsl-experi/data/\n",
        "![ ! -d fsl-experi/data/RIRS_NOISES/ ] && cp ./drive/MyDrive/colab/rirs_noises.zip . && unzip -q -d fsl-experi/data/ rirs_noises.zip\n",
        "!mkdir ./fsl-experi/lightning_logs/"
      ],
      "execution_count": null,
      "outputs": []
    },
    {
      "cell_type": "markdown",
      "metadata": {
        "id": "tVEO9AmoqkCj"
      },
      "source": [
        "# Train"
      ]
    },
    {
      "cell_type": "code",
      "metadata": {
        "id": "iEd6mEi31GuV"
      },
      "source": [
        "# Start tensorboard.\n",
        "%reload_ext tensorboard\n",
        "%tensorboard --logdir ./fsl-experi/lightning_logs/"
      ],
      "execution_count": null,
      "outputs": []
    },
    {
      "cell_type": "code",
      "metadata": {
        "id": "MdJfDzukz3el"
      },
      "source": [
        "!cd fsl-experi/ && python -m snn.librispeech.train --gpus 1 --num_workers 4  \\\n",
        "  --max_epochs 150 --batch_size 64 --max_sample_length 4 \\\n",
        "  --resnet_aggregation_type ASP --n_mels 64 --model snn\n",
        "  #--train_batch_size 1 --num_ways 32 --num_shots 2 \\\n",
        "  #--num_speakers 50 \\"
      ],
      "execution_count": null,
      "outputs": []
    },
    {
      "cell_type": "markdown",
      "metadata": {
        "id": "EG28T403qnLp"
      },
      "source": [
        "# Save model"
      ]
    },
    {
      "cell_type": "code",
      "metadata": {
        "id": "MXn2kgPLqprb"
      },
      "source": [
        "!cp ./fsl-experi/checkpoints/*.ckpt ./drive/MyDrive/colab/checkpoints/\r\n",
        "!cp -r ./fsl-experi/lightning_logs/ ./drive/MyDrive/colab/"
      ],
      "execution_count": null,
      "outputs": []
    }
  ]
}
